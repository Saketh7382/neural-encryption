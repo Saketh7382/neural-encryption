{
 "cells": [
  {
   "cell_type": "code",
   "execution_count": 70,
   "metadata": {},
   "outputs": [],
   "source": [
    "from random import seed\n",
    "from random import random\n",
    "from math import exp\n",
    "import numpy as np\n",
    "import pandas as pd\n",
    "import textwrap\n",
    "import timeit\n",
    "import binascii\n",
    "import zlib, base64\n",
    "import json\n",
    "import io"
   ]
  },
  {
   "cell_type": "code",
   "execution_count": 71,
   "metadata": {},
   "outputs": [],
   "source": [
    "import matplotlib.pyplot as plt"
   ]
  },
  {
   "cell_type": "code",
   "execution_count": 72,
   "metadata": {},
   "outputs": [],
   "source": [
    "def addZeros(strr, n): \n",
    "    for i in range(n): \n",
    "        strr = \"0\" + strr \n",
    "    return strr \n",
    "\n",
    "def getXOR(a, b): \n",
    "    aLen = len(a) \n",
    "    bLen = len(b) \n",
    "\n",
    "\n",
    "    if (aLen > bLen): \n",
    "        b = addZeros(b, aLen - bLen) \n",
    "    elif (bLen > aLen): \n",
    "        a = addZeros(a, bLen - aLen) \n",
    " \n",
    "    lenn = max(aLen, bLen); \n",
    "\n",
    "    res = \"\" \n",
    "    for i in range(lenn): \n",
    "        if (a[i] == b[i]): \n",
    "            res += \"0\"\n",
    "        else: \n",
    "            res += \"1\"\n",
    "    return res "
   ]
  },
  {
   "cell_type": "code",
   "execution_count": 73,
   "metadata": {},
   "outputs": [],
   "source": [
    "def text_to_bits(text, encoding='utf-8', errors='surrogatepass'):\n",
    "    bits = bin(int(binascii.hexlify(text.encode(encoding, errors)), 16))[2:]\n",
    "    return bits.zfill(8 * ((len(bits) + 7) // 8))\n",
    "\n",
    "def text_from_bits(bits, encoding='utf-8', errors='surrogatepass'):\n",
    "    n = int(bits, 2)\n",
    "    return int2bytes(n).decode(encoding, errors)\n",
    "\n",
    "def int2bytes(i):\n",
    "    hex_string = '%x' % i\n",
    "    n = len(hex_string)\n",
    "    return binascii.unhexlify(hex_string.zfill(n + (n & 1)))"
   ]
  },
  {
   "cell_type": "code",
   "execution_count": 74,
   "metadata": {},
   "outputs": [],
   "source": [
    "#initializing the network\n",
    "def initialize_network(parameters):\n",
    "    network = list()\n",
    "    for j in range(1,len(parameters)):\n",
    "        layer = [{'weights':[random() for i in range(parameters[j-1] + 1)]} for i in range(parameters[j])]\n",
    "        network.append(layer)\n",
    "    return network"
   ]
  },
  {
   "cell_type": "code",
   "execution_count": 85,
   "metadata": {},
   "outputs": [],
   "source": [
    "# Calculate neuron activation for an input\n",
    "def activate(weights, inputs):\n",
    "    #print(inputs)\n",
    "    activation = weights[-1]\n",
    "    for i in range(len(weights)-1):\n",
    "        #print(i)\n",
    "        #print(type(weights[i]))\n",
    "        #print(type(inputs[i]))\n",
    "        activation += weights[i] * inputs[i]\n",
    "    return activation"
   ]
  },
  {
   "cell_type": "code",
   "execution_count": 76,
   "metadata": {},
   "outputs": [],
   "source": [
    "# Transfer neuron activation\n",
    "def transfer(activation):\n",
    "    return 1.0 / (1.0 + exp(-activation))"
   ]
  },
  {
   "cell_type": "code",
   "execution_count": 77,
   "metadata": {},
   "outputs": [],
   "source": [
    "# Forward propagate input to a network output\n",
    "def forward_propagate(network, row, getEncryption):\n",
    "    count = 0\n",
    "    inputs = row\n",
    "    for layer in network:\n",
    "        new_inputs = []\n",
    "        for neuron in layer:\n",
    "            activation = activate(neuron['weights'], inputs)\n",
    "            neuron['output'] = transfer(activation)\n",
    "            new_inputs.append(neuron['output'])\n",
    "        if count == 1 and getEncryption == 1:\n",
    "            print(\"io\")\n",
    "            return new_inputs\n",
    "        inputs = new_inputs\n",
    "        count += 1\n",
    "  \n",
    "    return inputs"
   ]
  },
  {
   "cell_type": "code",
   "execution_count": 78,
   "metadata": {},
   "outputs": [],
   "source": [
    "# Calculate the derivative of an neuron output\n",
    "def transfer_derivative(output):\n",
    "    return output * (1.0 - output)\n",
    "\n",
    "# Backpropagate error and store in neurons\n",
    "def backward_propagate_error(network, expected):\n",
    "    \n",
    "    for i in reversed(range(len(network))):\n",
    "        layer = network[i]\n",
    "        errors = list()\n",
    "        if i != len(network)-1:\n",
    "            for j in range(len(layer)):\n",
    "                error = 0.0\n",
    "                for neuron in network[i + 1]:\n",
    "                    error += (neuron['weights'][j] * neuron['delta'])\n",
    "                errors.append(error)\n",
    "        else:\n",
    "            for j in range(len(layer)):\n",
    "                neuron = layer[j]\n",
    "                errors.append(expected[j] - neuron['output'])\n",
    "        for j in range(len(layer)):\n",
    "            neuron = layer[j]\n",
    "            neuron['delta'] = errors[j] * transfer_derivative(neuron['output'])"
   ]
  },
  {
   "cell_type": "code",
   "execution_count": 120,
   "metadata": {},
   "outputs": [],
   "source": [
    "# Update network weights with error\n",
    "def update_weights(network, row, l_rate):\n",
    "    \n",
    "    for i in range(len(network)):\n",
    "        inputs = row[:-1]\n",
    "        if i != 0:\n",
    "            inputs = [neuron['output'] for neuron in network[i - 1]]\n",
    "        for neuron in network[i]:\n",
    "            for j in range(len(inputs)):\n",
    "                neuron['weights'][j] += l_rate * neuron['delta'] * inputs[j]\n",
    "            neuron['weights'][-1] += l_rate * neuron['delta']\n",
    "\n",
    "# Train a network for a fixed number of epochs\n",
    "def train_network(network, train, l_rate, n_epoch, n_outputs):\n",
    "    count = 1\n",
    "    y = []\n",
    "    x = []\n",
    "    for epoch in range(n_epoch):\n",
    "        sum_error = 0\n",
    "        for row in train:\n",
    "            count += 1\n",
    "            outputs = forward_propagate(network, row, 0)\n",
    "            expected = row[-1]\n",
    "            sum_error += sum([(expected[i]-outputs[i])**2 for i in range(len(expected))])\n",
    "            backward_propagate_error(network, expected)\n",
    "            update_weights(network, row, l_rate)\n",
    "        x.append(count)\n",
    "        y.append(sum_error)\n",
    "        if count % 100 == 0:\n",
    "            print('> epoch=%d, lrate=%.3f, error=%.3f' % (epoch, l_rate, sum_error))\n",
    "        count += 1\n",
    "    f=open('../Test_images/encryptor_design_summary.txt','a')\n",
    "    s = \"Epochs : \" + str(n_epoch) +\"\\n\"\n",
    "    f.write(s)\n",
    "    s = \"Error : \" + str(y[-1]) + \"\\n\"\n",
    "    f.write(s)\n",
    "    f.close()"
   ]
  },
  {
   "cell_type": "code",
   "execution_count": 80,
   "metadata": {},
   "outputs": [],
   "source": [
    "#batch training\n",
    "# Train a network for a fixed number of epochs\n",
    "def train_network_batch(network, train, l_rate, n_epoch, n_outputs):\n",
    "    count = 1\n",
    "    k = 0\n",
    "    batch = 10\n",
    "    for i in range(batch):\n",
    "        print('> Batch = %d' % (i+1))\n",
    "        for epoch in range(n_epoch):\n",
    "            sum_error = 0\n",
    "            for row in train[k:k+10]:\n",
    "                count += 1\n",
    "                outputs = forward_propagate(network, row, 0)\n",
    "                expected = row[-1]\n",
    "                sum_error += sum([(expected[i]-outputs[i])**2 for i in range(len(expected))])\n",
    "                backward_propagate_error(network, expected)\n",
    "                update_weights(network, row, l_rate)\n",
    "            \n",
    "            if count % 100 == 0:\n",
    "                print('    epoch=%d, lrate=%.3f, error=%.3f' % (epoch, l_rate, sum_error))\n",
    "            count += 1\n",
    "        k += 10"
   ]
  },
  {
   "cell_type": "code",
   "execution_count": 81,
   "metadata": {},
   "outputs": [],
   "source": [
    "import string\n",
    "a = string.printable\n",
    "ascii_list = list()\n",
    "for i in a:\n",
    "    ascii_list.append(text_to_bits(i))\n",
    "encrypted = list()\n",
    "c = 1\n",
    "for i in ascii_list:\n",
    "    t = np.random.randint(2, size= 8)\n",
    "    \"\".join(map(str, t))\n",
    "    t = \"\".join([str(a) for a in t])\n",
    "    if t in encrypted or t in ascii_list:\n",
    "        flag = 1\n",
    "        while flag:\n",
    "            t = np.random.randint(2, size= 8)\n",
    "            \"\".join(map(str, t))\n",
    "            t = \"\".join([str(a) for a in t])\n",
    "            if t in encrypted or t in ascii_list:\n",
    "                flag = 1\n",
    "            else:\n",
    "                encrypted.append(t)\n",
    "                flag = 0\n",
    "    else:\n",
    "        encrypted.append(t)"
   ]
  },
  {
   "cell_type": "code",
   "execution_count": 82,
   "metadata": {},
   "outputs": [
    {
     "name": "stdout",
     "output_type": "stream",
     "text": [
      "dataset clean\n"
     ]
    }
   ],
   "source": [
    "#testing new random dataset\n",
    "flag = 1\n",
    "for i in encrypted:\n",
    "    if i in ascii_list:\n",
    "        flag = 0\n",
    "        print(\"dataset compromised\")\n",
    "        break\n",
    "l = len(encrypted)\n",
    "c = len(list( dict.fromkeys(encrypted)))\n",
    "if flag == 1 and l == c:\n",
    "    print(\"dataset clean\")"
   ]
  },
  {
   "cell_type": "code",
   "execution_count": 83,
   "metadata": {},
   "outputs": [],
   "source": [
    "count = 0\n",
    "dataset = list()\n",
    "for i in ascii_list:\n",
    "    k = list(i)\n",
    "    k = list(map(int,k))\n",
    "    j = list(encrypted[count])\n",
    "    j = list(map(int,j))\n",
    "    count += 1\n",
    "    k.append(j)\n",
    "    dataset.append(k)"
   ]
  },
  {
   "cell_type": "markdown",
   "metadata": {},
   "source": [
    "# Testing data creation for 7 bit data"
   ]
  },
  {
   "cell_type": "code",
   "execution_count": 15,
   "metadata": {},
   "outputs": [],
   "source": [
    "a = string.printable\n",
    "ascii_list = list()\n",
    "for i in a:\n",
    "    j = text_to_bits(i)\n",
    "    ascii_list.append(j[1:])\n",
    "encrypted = list()\n",
    "c = 1\n",
    "for i in ascii_list:\n",
    "    t = np.random.randint(2, size= 7)\n",
    "    \"\".join(map(str, t))\n",
    "    t = \"\".join([str(a) for a in t])\n",
    "    if t in encrypted or t == i:\n",
    "        flag = 1\n",
    "        while flag:\n",
    "            t = np.random.randint(2, size= 7)\n",
    "            \"\".join(map(str, t))\n",
    "            t = \"\".join([str(a) for a in t])\n",
    "            if t in encrypted or t == i:\n",
    "                flag = 1\n",
    "            else:\n",
    "                encrypted.append(t)\n",
    "                flag = 0\n",
    "    else:\n",
    "        encrypted.append(t)"
   ]
  },
  {
   "cell_type": "code",
   "execution_count": 16,
   "metadata": {},
   "outputs": [
    {
     "name": "stdout",
     "output_type": "stream",
     "text": [
      "dataset clean\n"
     ]
    }
   ],
   "source": [
    "#testing new random dataset\n",
    "flag = 1\n",
    "l = len(encrypted)\n",
    "c = len(list( dict.fromkeys(encrypted)))\n",
    "if flag == 1 and l == c:\n",
    "    print(\"dataset clean\")"
   ]
  },
  {
   "cell_type": "code",
   "execution_count": 17,
   "metadata": {},
   "outputs": [],
   "source": [
    "count = 0\n",
    "dataset = list()\n",
    "for i in ascii_list:\n",
    "    k = list(i)\n",
    "    k = list(map(int,k))\n",
    "    j = list(encrypted[count])\n",
    "    j = list(map(int,j))\n",
    "    count += 1\n",
    "    k.append(j)\n",
    "    dataset.append(k)"
   ]
  },
  {
   "cell_type": "markdown",
   "metadata": {},
   "source": [
    "# Test data creation ended"
   ]
  },
  {
   "cell_type": "code",
   "execution_count": 18,
   "metadata": {},
   "outputs": [],
   "source": [
    "final_temp = list()\n",
    "with open('../Project/data/languageDecryptor.json') as data_file:\n",
    "    temp1 = json.load(data_file)"
   ]
  },
  {
   "cell_type": "code",
   "execution_count": 19,
   "metadata": {
    "scrolled": true
   },
   "outputs": [
    {
     "data": {
      "text/plain": [
       "[[1, 1, 0, 1, 1, 1, 0, 1, [0, 0, 1, 1, 0, 0, 0, 0]],\n",
       " [1, 1, 0, 0, 1, 1, 1, 0, [0, 0, 1, 1, 0, 0, 0, 1]],\n",
       " [1, 1, 0, 0, 0, 1, 1, 0, [0, 0, 1, 1, 0, 0, 1, 0]],\n",
       " [1, 0, 1, 1, 1, 1, 1, 0, [0, 0, 1, 1, 0, 0, 1, 1]],\n",
       " [1, 0, 1, 0, 0, 1, 1, 0, [0, 0, 1, 1, 0, 1, 0, 0]],\n",
       " [0, 0, 0, 0, 0, 1, 1, 0, [0, 0, 1, 1, 0, 1, 0, 1]],\n",
       " [1, 0, 0, 1, 0, 1, 1, 0, [0, 0, 1, 1, 0, 1, 1, 0]],\n",
       " [1, 0, 0, 0, 0, 1, 1, 0, [0, 0, 1, 1, 0, 1, 1, 1]],\n",
       " [1, 1, 0, 0, 1, 0, 1, 0, [0, 0, 1, 1, 1, 0, 0, 0]],\n",
       " [0, 0, 0, 1, 1, 1, 0, 0, [0, 0, 1, 1, 1, 0, 0, 1]],\n",
       " [1, 0, 1, 0, 1, 0, 1, 0, [0, 1, 1, 0, 0, 0, 0, 1]],\n",
       " [1, 0, 0, 1, 0, 1, 1, 1, [0, 1, 1, 0, 0, 0, 1, 0]],\n",
       " [1, 0, 0, 0, 1, 1, 0, 1, [0, 1, 1, 0, 0, 0, 1, 1]],\n",
       " [1, 0, 1, 1, 0, 1, 0, 0, [0, 1, 1, 0, 0, 1, 0, 0]],\n",
       " [1, 0, 0, 1, 1, 0, 0, 1, [0, 1, 1, 0, 0, 1, 0, 1]],\n",
       " [1, 0, 0, 0, 0, 0, 1, 1, [0, 1, 1, 0, 0, 1, 1, 0]],\n",
       " [1, 0, 0, 1, 1, 1, 0, 0, [0, 1, 1, 0, 0, 1, 1, 1]],\n",
       " [1, 1, 0, 1, 1, 1, 0, 0, [0, 1, 1, 0, 1, 0, 0, 0]],\n",
       " [1, 0, 1, 0, 0, 0, 0, 1, [0, 1, 1, 0, 1, 0, 0, 1]],\n",
       " [1, 0, 0, 0, 0, 0, 0, 0, [0, 1, 1, 0, 1, 0, 1, 0]],\n",
       " [1, 1, 0, 1, 0, 0, 1, 0, [0, 1, 1, 0, 1, 0, 1, 1]],\n",
       " [1, 1, 1, 1, 0, 1, 0, 1, [0, 1, 1, 0, 1, 1, 0, 0]],\n",
       " [1, 1, 0, 1, 0, 1, 0, 1, [0, 1, 1, 0, 1, 1, 0, 1]],\n",
       " [0, 0, 0, 1, 1, 0, 0, 0, [0, 1, 1, 0, 1, 1, 1, 0]],\n",
       " [1, 1, 0, 1, 0, 0, 0, 1, [0, 1, 1, 0, 1, 1, 1, 1]],\n",
       " [1, 0, 1, 1, 1, 1, 1, 1, [0, 1, 1, 1, 0, 0, 0, 0]],\n",
       " [1, 1, 1, 1, 0, 0, 0, 1, [0, 1, 1, 1, 0, 0, 0, 1]],\n",
       " [1, 0, 0, 1, 0, 1, 0, 1, [0, 1, 1, 1, 0, 0, 1, 0]],\n",
       " [0, 0, 0, 1, 0, 1, 1, 0, [0, 1, 1, 1, 0, 0, 1, 1]],\n",
       " [1, 1, 1, 0, 0, 1, 1, 0, [0, 1, 1, 1, 0, 1, 0, 0]],\n",
       " [1, 1, 1, 1, 1, 1, 0, 1, [0, 1, 1, 1, 0, 1, 0, 1]],\n",
       " [1, 0, 1, 1, 1, 0, 0, 0, [0, 1, 1, 1, 0, 1, 1, 0]],\n",
       " [1, 0, 1, 1, 0, 1, 0, 1, [0, 1, 1, 1, 0, 1, 1, 1]],\n",
       " [1, 1, 1, 0, 0, 0, 0, 1, [0, 1, 1, 1, 1, 0, 0, 0]],\n",
       " [1, 0, 0, 1, 1, 0, 0, 0, [0, 1, 1, 1, 1, 0, 0, 1]],\n",
       " [1, 0, 0, 0, 1, 1, 0, 0, [0, 1, 1, 1, 1, 0, 1, 0]],\n",
       " [0, 0, 0, 0, 1, 0, 1, 0, [0, 1, 0, 0, 0, 0, 0, 1]],\n",
       " [0, 1, 1, 1, 1, 1, 1, 1, [0, 1, 0, 0, 0, 0, 1, 0]],\n",
       " [1, 0, 0, 0, 1, 1, 1, 0, [0, 1, 0, 0, 0, 0, 1, 1]],\n",
       " [1, 1, 1, 1, 1, 0, 1, 0, [0, 1, 0, 0, 0, 1, 0, 0]],\n",
       " [0, 0, 0, 0, 1, 1, 1, 0, [0, 1, 0, 0, 0, 1, 0, 1]],\n",
       " [1, 1, 1, 1, 1, 0, 0, 0, [0, 1, 0, 0, 0, 1, 1, 0]],\n",
       " [1, 0, 0, 0, 1, 0, 0, 0, [0, 1, 0, 0, 0, 1, 1, 1]],\n",
       " [0, 0, 0, 0, 0, 0, 0, 1, [0, 1, 0, 0, 1, 0, 0, 0]],\n",
       " [1, 1, 0, 0, 0, 1, 0, 0, [0, 1, 0, 0, 1, 0, 0, 1]],\n",
       " [0, 0, 0, 0, 1, 1, 1, 1, [0, 1, 0, 0, 1, 0, 1, 0]],\n",
       " [1, 0, 1, 0, 1, 0, 0, 0, [0, 1, 0, 0, 1, 0, 1, 1]],\n",
       " [1, 1, 0, 1, 0, 1, 1, 1, [0, 1, 0, 0, 1, 1, 0, 0]],\n",
       " [1, 1, 0, 1, 1, 0, 0, 1, [0, 1, 0, 0, 1, 1, 0, 1]],\n",
       " [1, 1, 1, 0, 0, 0, 0, 0, [0, 1, 0, 0, 1, 1, 1, 0]],\n",
       " [0, 0, 0, 1, 0, 1, 0, 1, [0, 1, 0, 0, 1, 1, 1, 1]],\n",
       " [1, 1, 0, 0, 1, 0, 0, 0, [0, 1, 0, 1, 0, 0, 0, 0]],\n",
       " [1, 1, 0, 0, 1, 1, 0, 1, [0, 1, 0, 1, 0, 0, 0, 1]],\n",
       " [1, 0, 1, 1, 1, 0, 1, 0, [0, 1, 0, 1, 0, 0, 1, 0]],\n",
       " [1, 0, 0, 1, 0, 0, 0, 0, [0, 1, 0, 1, 0, 0, 1, 1]],\n",
       " [1, 0, 1, 1, 1, 1, 0, 1, [0, 1, 0, 1, 0, 1, 0, 0]],\n",
       " [1, 1, 1, 1, 0, 0, 1, 1, [0, 1, 0, 1, 0, 1, 0, 1]],\n",
       " [1, 0, 1, 1, 1, 1, 0, 0, [0, 1, 0, 1, 0, 1, 1, 0]],\n",
       " [1, 1, 0, 1, 0, 1, 1, 0, [0, 1, 0, 1, 0, 1, 1, 1]],\n",
       " [1, 1, 1, 0, 1, 0, 1, 0, [0, 1, 0, 1, 1, 0, 0, 0]],\n",
       " [0, 0, 0, 1, 1, 1, 0, 1, [0, 1, 0, 1, 1, 0, 0, 1]],\n",
       " [1, 1, 0, 1, 1, 0, 1, 1, [0, 1, 0, 1, 1, 0, 1, 0]],\n",
       " [1, 1, 0, 1, 1, 0, 1, 0, [0, 0, 1, 0, 0, 0, 0, 1]],\n",
       " [0, 0, 0, 1, 0, 1, 0, 0, [0, 0, 1, 0, 0, 0, 1, 0]],\n",
       " [1, 0, 1, 0, 0, 1, 0, 0, [0, 0, 1, 0, 0, 0, 1, 1]],\n",
       " [0, 0, 0, 0, 0, 0, 0, 0, [0, 0, 1, 0, 0, 1, 0, 0]],\n",
       " [1, 0, 0, 0, 1, 0, 1, 1, [0, 0, 1, 0, 0, 1, 0, 1]],\n",
       " [1, 1, 0, 0, 1, 0, 1, 1, [0, 0, 1, 0, 0, 1, 1, 0]],\n",
       " [1, 1, 1, 1, 0, 1, 1, 0, [0, 0, 1, 0, 0, 1, 1, 1]],\n",
       " [0, 0, 0, 0, 0, 0, 1, 0, [0, 0, 1, 0, 1, 0, 0, 0]],\n",
       " [1, 1, 1, 0, 1, 0, 0, 0, [0, 0, 1, 0, 1, 0, 0, 1]],\n",
       " [1, 0, 1, 0, 1, 0, 0, 1, [0, 0, 1, 0, 1, 0, 1, 0]],\n",
       " [1, 1, 1, 0, 0, 0, 1, 1, [0, 0, 1, 0, 1, 0, 1, 1]],\n",
       " [1, 1, 0, 1, 0, 1, 0, 0, [0, 0, 1, 0, 1, 1, 0, 0]],\n",
       " [1, 0, 1, 0, 0, 0, 0, 0, [0, 0, 1, 0, 1, 1, 0, 1]],\n",
       " [0, 0, 0, 1, 0, 0, 1, 1, [0, 0, 1, 0, 1, 1, 1, 0]],\n",
       " [1, 1, 1, 1, 0, 0, 1, 0, [0, 0, 1, 0, 1, 1, 1, 1]],\n",
       " [1, 0, 0, 0, 0, 1, 1, 1, [0, 0, 1, 1, 1, 0, 1, 0]],\n",
       " [1, 0, 1, 1, 0, 0, 1, 0, [0, 0, 1, 1, 1, 0, 1, 1]],\n",
       " [1, 1, 1, 0, 0, 0, 1, 0, [0, 0, 1, 1, 1, 1, 0, 0]],\n",
       " [1, 1, 0, 0, 1, 1, 1, 1, [0, 0, 1, 1, 1, 1, 0, 1]],\n",
       " [0, 0, 0, 1, 1, 1, 1, 1, [0, 0, 1, 1, 1, 1, 1, 0]],\n",
       " [1, 1, 1, 0, 1, 0, 1, 1, [0, 0, 1, 1, 1, 1, 1, 1]],\n",
       " [1, 1, 0, 0, 0, 0, 1, 1, [0, 1, 0, 0, 0, 0, 0, 0]],\n",
       " [1, 1, 0, 1, 1, 1, 1, 1, [0, 1, 0, 1, 1, 0, 1, 1]],\n",
       " [1, 1, 0, 0, 0, 0, 1, 0, [0, 1, 0, 1, 1, 1, 0, 0]],\n",
       " [1, 0, 0, 0, 1, 1, 1, 1, [0, 1, 0, 1, 1, 1, 0, 1]],\n",
       " [1, 1, 0, 1, 1, 0, 0, 0, [0, 1, 0, 1, 1, 1, 1, 0]],\n",
       " [1, 1, 0, 0, 0, 0, 0, 0, [0, 1, 0, 1, 1, 1, 1, 1]],\n",
       " [1, 1, 0, 0, 1, 0, 0, 1, [0, 1, 1, 0, 0, 0, 0, 0]],\n",
       " [1, 1, 0, 1, 1, 1, 1, 0, [0, 1, 1, 1, 1, 0, 1, 1]],\n",
       " [1, 1, 1, 0, 0, 1, 0, 0, [0, 1, 1, 1, 1, 1, 0, 0]],\n",
       " [0, 0, 0, 1, 1, 1, 1, 0, [0, 1, 1, 1, 1, 1, 0, 1]],\n",
       " [1, 0, 1, 1, 0, 0, 1, 1, [0, 1, 1, 1, 1, 1, 1, 0]],\n",
       " [1, 1, 1, 0, 0, 1, 1, 1, [0, 0, 1, 0, 0, 0, 0, 0]],\n",
       " [1, 1, 1, 1, 1, 1, 0, 0, [0, 0, 0, 0, 1, 0, 0, 1]],\n",
       " [1, 0, 1, 1, 0, 1, 1, 1, [0, 0, 0, 0, 1, 0, 1, 0]],\n",
       " [1, 0, 0, 0, 1, 0, 1, 0, [0, 0, 0, 0, 1, 1, 0, 1]],\n",
       " [1, 0, 1, 0, 0, 0, 1, 0, [0, 0, 0, 0, 1, 0, 1, 1]],\n",
       " [0, 0, 0, 0, 0, 0, 1, 1, [0, 0, 0, 0, 1, 1, 0, 0]]]"
      ]
     },
     "execution_count": 19,
     "metadata": {},
     "output_type": "execute_result"
    }
   ],
   "source": [
    "temp1"
   ]
  },
  {
   "cell_type": "code",
   "execution_count": 122,
   "metadata": {},
   "outputs": [
    {
     "name": "stdout",
     "output_type": "stream",
     "text": [
      "8 16 16 8\n",
      "[8, 16, 16, 8]\n"
     ]
    }
   ],
   "source": [
    "a = input()\n",
    "b = [int(i) for i in a.split(\" \")]\n",
    "print(b)"
   ]
  },
  {
   "cell_type": "code",
   "execution_count": 119,
   "metadata": {},
   "outputs": [
    {
     "name": "stdout",
     "output_type": "stream",
     "text": [
      "> epoch=99, lrate=1.000, error=184.983\n",
      "time = 2.761966255000516\n",
      "10\n"
     ]
    }
   ],
   "source": [
    "layers_list = list()\n",
    "for i in range(15):\n",
    "    l = list()\n",
    "    a = input()\n",
    "    l.append([int(i) for i in a.split(\" \")])\n",
    "    "
   ]
  },
  {
   "cell_type": "code",
   "execution_count": 17,
   "metadata": {
    "scrolled": true
   },
   "outputs": [
    {
     "name": "stdout",
     "output_type": "stream",
     "text": [
      "> epoch=99, lrate=0.500, error=245.250\n",
      "> epoch=199, lrate=0.500, error=197.958\n",
      "> epoch=299, lrate=0.500, error=170.969\n",
      "> epoch=399, lrate=0.500, error=102.973\n",
      "> epoch=499, lrate=0.500, error=50.818\n",
      "> epoch=599, lrate=0.500, error=36.179\n",
      "> epoch=699, lrate=0.500, error=48.729\n",
      "> epoch=799, lrate=0.500, error=28.956\n",
      "> epoch=899, lrate=0.500, error=23.531\n",
      "> epoch=999, lrate=0.500, error=19.655\n",
      "> epoch=1099, lrate=0.500, error=18.406\n",
      "> epoch=1199, lrate=0.500, error=17.879\n",
      "> epoch=1299, lrate=0.500, error=17.410\n",
      "> epoch=1399, lrate=0.500, error=17.223\n",
      "> epoch=1499, lrate=0.500, error=17.105\n",
      "> epoch=1599, lrate=0.500, error=17.043\n",
      "> epoch=1699, lrate=0.500, error=16.860\n",
      "> epoch=1799, lrate=0.500, error=16.769\n",
      "> epoch=1899, lrate=0.500, error=16.697\n",
      "> epoch=1999, lrate=0.500, error=16.638\n",
      "> epoch=2099, lrate=0.500, error=58.763\n",
      "> epoch=2199, lrate=0.500, error=19.909\n",
      "> epoch=2299, lrate=0.500, error=16.126\n",
      "> epoch=2399, lrate=0.500, error=25.473\n",
      "> epoch=2499, lrate=0.500, error=18.424\n",
      "> epoch=2599, lrate=0.500, error=16.301\n",
      "> epoch=2699, lrate=0.500, error=16.179\n",
      "> epoch=2799, lrate=0.500, error=35.036\n",
      "> epoch=2899, lrate=0.500, error=15.749\n",
      "> epoch=2999, lrate=0.500, error=14.756\n",
      "> epoch=3099, lrate=0.500, error=14.633\n",
      "> epoch=3199, lrate=0.500, error=14.568\n",
      "> epoch=3299, lrate=0.500, error=14.517\n",
      "> epoch=3399, lrate=0.500, error=14.478\n",
      "> epoch=3499, lrate=0.500, error=14.446\n",
      "> epoch=3599, lrate=0.500, error=14.419\n",
      "> epoch=3699, lrate=0.500, error=14.396\n",
      "> epoch=3799, lrate=0.500, error=14.376\n",
      "> epoch=3899, lrate=0.500, error=14.357\n",
      "> epoch=3999, lrate=0.500, error=14.341\n",
      "> epoch=4099, lrate=0.500, error=14.326\n",
      "> epoch=4199, lrate=0.500, error=14.312\n",
      "> epoch=4299, lrate=0.500, error=14.300\n",
      "> epoch=4399, lrate=0.500, error=14.288\n",
      "> epoch=4499, lrate=0.500, error=14.277\n",
      "> epoch=4599, lrate=0.500, error=14.266\n",
      "> epoch=4699, lrate=0.500, error=14.256\n",
      "> epoch=4799, lrate=0.500, error=14.220\n",
      "> epoch=4899, lrate=0.500, error=14.657\n",
      "> epoch=4999, lrate=0.500, error=14.380\n",
      "> epoch=5099, lrate=0.500, error=14.766\n",
      "> epoch=5199, lrate=0.500, error=13.523\n",
      "> epoch=5299, lrate=0.500, error=13.408\n",
      "> epoch=5399, lrate=0.500, error=13.354\n",
      "> epoch=5499, lrate=0.500, error=13.321\n",
      "> epoch=5599, lrate=0.500, error=13.297\n",
      "> epoch=5699, lrate=0.500, error=13.279\n",
      "> epoch=5799, lrate=0.500, error=13.263\n",
      "> epoch=5899, lrate=0.500, error=13.250\n",
      "> epoch=5999, lrate=0.500, error=13.239\n",
      "> epoch=6099, lrate=0.500, error=13.229\n",
      "> epoch=6199, lrate=0.500, error=13.221\n",
      "> epoch=6299, lrate=0.500, error=13.213\n",
      "> epoch=6399, lrate=0.500, error=13.206\n",
      "> epoch=6499, lrate=0.500, error=13.199\n",
      "> epoch=6599, lrate=0.500, error=13.194\n",
      "> epoch=6699, lrate=0.500, error=13.188\n",
      "> epoch=6799, lrate=0.500, error=13.183\n",
      "> epoch=6899, lrate=0.500, error=13.179\n",
      "> epoch=6999, lrate=0.500, error=13.174\n",
      "> epoch=7099, lrate=0.500, error=13.170\n",
      "> epoch=7199, lrate=0.500, error=13.166\n",
      "> epoch=7299, lrate=0.500, error=13.163\n",
      "> epoch=7399, lrate=0.500, error=13.159\n",
      "> epoch=7499, lrate=0.500, error=13.156\n",
      "> epoch=7599, lrate=0.500, error=13.153\n",
      "> epoch=7699, lrate=0.500, error=13.150\n",
      "> epoch=7799, lrate=0.500, error=13.147\n",
      "> epoch=7899, lrate=0.500, error=13.145\n",
      "> epoch=7999, lrate=0.500, error=13.142\n",
      "> epoch=8099, lrate=0.500, error=13.140\n",
      "> epoch=8199, lrate=0.500, error=13.137\n",
      "> epoch=8299, lrate=0.500, error=13.135\n",
      "> epoch=8399, lrate=0.500, error=13.133\n",
      "> epoch=8499, lrate=0.500, error=13.131\n",
      "> epoch=8599, lrate=0.500, error=13.129\n",
      "> epoch=8699, lrate=0.500, error=13.127\n",
      "> epoch=8799, lrate=0.500, error=13.125\n",
      "> epoch=8899, lrate=0.500, error=13.123\n",
      "> epoch=8999, lrate=0.500, error=13.121\n",
      "> epoch=9099, lrate=0.500, error=13.119\n",
      "> epoch=9199, lrate=0.500, error=13.118\n",
      "> epoch=9299, lrate=0.500, error=13.116\n",
      "> epoch=9399, lrate=0.500, error=13.115\n",
      "> epoch=9499, lrate=0.500, error=13.113\n",
      "> epoch=9599, lrate=0.500, error=13.112\n",
      "> epoch=9699, lrate=0.500, error=13.110\n",
      "> epoch=9799, lrate=0.500, error=13.109\n",
      "> epoch=9899, lrate=0.500, error=13.107\n",
      "> epoch=9999, lrate=0.500, error=13.106\n",
      "time = 381.5535235499992\n"
     ]
    }
   ],
   "source": [
    "count = 1\n",
    "for i in layers_list:\n",
    "    seed(1)\n",
    "    network = initialize_network(i[0])\n",
    "    n_inputs = len(dataset[0]) - 1\n",
    "    n_outputs = len(dataset[0][-1])\n",
    "    f=open('../Test_images/encryptor_design_summary.txt','w')\n",
    "    s = \"{})\\n\".format(count)\n",
    "    f.write(s)\n",
    "    s = \"Test name : encryptor_{}_test\\n\".format(count)\n",
    "    f.write(s)\n",
    "    s = \"Layers : \" + str(i[0]) +\"\\n\"\n",
    "    f.write(s)\n",
    "    f.close()\n",
    "    start = timeit.default_timer()\n",
    "    train_network(network, dataset, i[1], i[2], n_outputs)\n",
    "    stop = timeit.default_timer()\n",
    "    print(\"time = {}\".format(stop - start))\n",
    "    t = list()\n",
    "    t.append(predict(network,dataset[0],0))\n",
    "    count = 0\n",
    "    for i in range(1,100):\n",
    "        if predict(network,dataset[i],0) in t:\n",
    "            count += 1\n",
    "            index = i\n",
    "        t.append(predict(network,dataset[i],0))\n",
    "    f=open('../Test_images/encryptor_design_summary.txt','a')\n",
    "    s = \"Unique Predictions : {}\\n\".format(100-count)\n",
    "    f.write(s)\n",
    "    f.write(\"Time : {}\".format(stop - start))\n",
    "    f.close()\n",
    "    print(100-count)"
   ]
  },
  {
   "cell_type": "code",
   "execution_count": 27,
   "metadata": {},
   "outputs": [
    {
     "data": {
      "image/png": "[encoded data removed]",
      "text/plain": [
       "<Figure size 432x288 with 1 Axes>"
      ]
     },
     "metadata": {
      "needs_background": "light"
     },
     "output_type": "display_data"
    }
   ],
   "source": [
    "y = [x**2 for x in range(1000)]\n",
    "x = [x for x in range(1000)]\n",
    "plt.plot(x, y)\n",
    "plt.savefig('books_read.png')\n",
    "plt.show()\n"
   ]
  },
  {
   "cell_type": "code",
   "execution_count": 21,
   "metadata": {},
   "outputs": [
    {
     "data": {
      "text/plain": [
       "<Figure size 432x288 with 0 Axes>"
      ]
     },
     "metadata": {},
     "output_type": "display_data"
    }
   ],
   "source": []
  },
  {
   "cell_type": "raw",
   "metadata": {},
   "source": [
    "n_inputs = len(dataset[0]) - 1\n",
    "n_outputs = len(dataset[0][-1])\n",
    "start = timeit.default_timer()\n",
    "train_network_batch(network, dataset, 0.75, 10000, n_outputs)\n",
    "stop = timeit.default_timer()\n",
    "print(\"time = {}\".format(stop - start))"
   ]
  },
  {
   "cell_type": "code",
   "execution_count": 87,
   "metadata": {},
   "outputs": [],
   "source": [
    "# Make a prediction with a network\n",
    "def predict(network, row, encr):\n",
    "    outputs = forward_propagate(network, row, encr)\n",
    "    k = [round(i) for i in outputs]\n",
    "    return k"
   ]
  },
  {
   "cell_type": "code",
   "execution_count": 88,
   "metadata": {},
   "outputs": [],
   "source": [
    "k = list()\n",
    "for i in range(100):\n",
    "    k.append(predict(network, dataset[i], 0))\n",
    "    k[i].append(dataset[i][:-1])"
   ]
  },
  {
   "cell_type": "code",
   "execution_count": 89,
   "metadata": {
    "scrolled": true
   },
   "outputs": [
    {
     "data": {
      "text/plain": [
       "[[1, 1, 1, 0, 1, 0, 1, 1, [0, 0, 1, 1, 0, 0, 0, 0]],\n",
       " [1, 1, 1, 0, 0, 0, 0, 1, [0, 0, 1, 1, 0, 0, 0, 1]],\n",
       " [1, 0, 0, 0, 0, 0, 0, 0, [0, 0, 1, 1, 0, 0, 1, 0]],\n",
       " [1, 0, 0, 0, 0, 1, 1, 0, [0, 0, 1, 1, 0, 0, 1, 1]],\n",
       " [1, 1, 0, 0, 1, 1, 0, 1, [0, 0, 1, 1, 0, 1, 0, 0]],\n",
       " [0, 0, 0, 1, 1, 1, 0, 1, [0, 0, 1, 1, 0, 1, 0, 1]],\n",
       " [1, 0, 0, 0, 1, 1, 0, 1, [0, 0, 1, 1, 0, 1, 1, 0]],\n",
       " [1, 1, 1, 1, 1, 1, 0, 1, [0, 0, 1, 1, 0, 1, 1, 1]],\n",
       " [1, 1, 1, 0, 0, 1, 0, 1, [0, 0, 1, 1, 1, 0, 0, 0]],\n",
       " [1, 1, 0, 0, 1, 1, 0, 0, [0, 0, 1, 1, 1, 0, 0, 1]],\n",
       " [1, 0, 1, 0, 1, 1, 0, 0, [0, 1, 1, 0, 0, 0, 0, 1]],\n",
       " [1, 1, 1, 1, 1, 0, 1, 0, [0, 1, 1, 0, 0, 0, 1, 0]],\n",
       " [1, 0, 0, 1, 0, 0, 0, 1, [0, 1, 1, 0, 0, 0, 1, 1]],\n",
       " [1, 0, 1, 1, 0, 0, 1, 1, [0, 1, 1, 0, 0, 1, 0, 0]],\n",
       " [0, 0, 0, 1, 1, 0, 1, 0, [0, 1, 1, 0, 0, 1, 0, 1]],\n",
       " [1, 0, 1, 1, 0, 0, 1, 0, [0, 1, 1, 0, 0, 1, 1, 0]],\n",
       " [1, 0, 1, 0, 0, 1, 1, 1, [0, 1, 1, 0, 0, 1, 1, 1]],\n",
       " [1, 0, 1, 1, 0, 1, 0, 0, [0, 1, 1, 0, 1, 0, 0, 0]],\n",
       " [0, 0, 0, 0, 1, 1, 1, 1, [0, 1, 1, 0, 1, 0, 0, 1]],\n",
       " [1, 0, 1, 1, 1, 1, 0, 0, [0, 1, 1, 0, 1, 0, 1, 0]],\n",
       " [1, 0, 1, 0, 0, 0, 0, 1, [0, 1, 1, 0, 1, 0, 1, 1]],\n",
       " [1, 0, 0, 0, 0, 1, 0, 0, [0, 1, 1, 0, 1, 1, 0, 0]],\n",
       " [1, 0, 1, 1, 0, 1, 0, 0, [0, 1, 1, 0, 1, 1, 0, 1]],\n",
       " [0, 0, 0, 0, 1, 0, 0, 0, [0, 1, 1, 0, 1, 1, 1, 0]],\n",
       " [1, 0, 0, 1, 0, 0, 0, 0, [0, 1, 1, 0, 1, 1, 1, 1]],\n",
       " [1, 0, 0, 1, 1, 0, 0, 0, [0, 1, 1, 1, 0, 0, 0, 0]],\n",
       " [1, 1, 1, 0, 0, 1, 1, 1, [0, 1, 1, 1, 0, 0, 0, 1]],\n",
       " [1, 0, 1, 0, 1, 0, 1, 1, [0, 1, 1, 1, 0, 0, 1, 0]],\n",
       " [0, 0, 0, 0, 0, 0, 0, 0, [0, 1, 1, 1, 0, 0, 1, 1]],\n",
       " [1, 1, 0, 0, 1, 1, 1, 1, [0, 1, 1, 1, 0, 1, 0, 0]],\n",
       " [1, 1, 1, 0, 0, 1, 0, 1, [0, 1, 1, 1, 0, 1, 0, 1]],\n",
       " [1, 0, 0, 1, 0, 1, 0, 1, [0, 1, 1, 1, 0, 1, 1, 0]],\n",
       " [1, 1, 0, 0, 0, 1, 0, 1, [0, 1, 1, 1, 0, 1, 1, 1]],\n",
       " [1, 0, 0, 0, 1, 1, 0, 0, [0, 1, 1, 1, 1, 0, 0, 0]],\n",
       " [1, 0, 0, 0, 1, 1, 0, 1, [0, 1, 1, 1, 1, 0, 0, 1]],\n",
       " [1, 0, 0, 0, 0, 0, 1, 1, [0, 1, 1, 1, 1, 0, 1, 0]],\n",
       " [0, 0, 0, 0, 0, 1, 0, 1, [0, 1, 0, 0, 0, 0, 0, 1]],\n",
       " [1, 0, 1, 0, 1, 0, 1, 0, [0, 1, 0, 0, 0, 0, 1, 0]],\n",
       " [0, 0, 0, 1, 1, 1, 0, 0, [0, 1, 0, 0, 0, 0, 1, 1]],\n",
       " [1, 0, 1, 1, 0, 0, 0, 0, [0, 1, 0, 0, 0, 1, 0, 0]],\n",
       " [0, 0, 0, 1, 1, 0, 1, 1, [0, 1, 0, 0, 0, 1, 0, 1]],\n",
       " [1, 1, 1, 0, 1, 0, 1, 0, [0, 1, 0, 0, 0, 1, 1, 0]],\n",
       " [1, 1, 1, 1, 0, 1, 0, 0, [0, 1, 0, 0, 0, 1, 1, 1]],\n",
       " [1, 0, 1, 0, 0, 1, 1, 0, [0, 1, 0, 0, 1, 0, 0, 0]],\n",
       " [1, 0, 0, 1, 0, 1, 1, 1, [0, 1, 0, 0, 1, 0, 0, 1]],\n",
       " [1, 0, 0, 0, 1, 1, 1, 0, [0, 1, 0, 0, 1, 0, 1, 0]],\n",
       " [1, 0, 0, 0, 0, 0, 0, 0, [0, 1, 0, 0, 1, 0, 1, 1]],\n",
       " [1, 1, 1, 0, 0, 0, 1, 0, [0, 1, 0, 0, 1, 1, 0, 0]],\n",
       " [1, 0, 1, 0, 0, 0, 0, 0, [0, 1, 0, 0, 1, 1, 0, 1]],\n",
       " [1, 0, 1, 1, 1, 0, 0, 1, [0, 1, 0, 0, 1, 1, 1, 0]],\n",
       " [1, 0, 1, 0, 0, 1, 0, 0, [0, 1, 0, 0, 1, 1, 1, 1]],\n",
       " [1, 1, 0, 1, 1, 1, 0, 1, [0, 1, 0, 1, 0, 0, 0, 0]],\n",
       " [1, 1, 0, 0, 1, 1, 1, 0, [0, 1, 0, 1, 0, 0, 0, 1]],\n",
       " [1, 0, 0, 0, 1, 0, 0, 0, [0, 1, 0, 1, 0, 0, 1, 0]],\n",
       " [1, 1, 0, 1, 1, 0, 1, 0, [0, 1, 0, 1, 0, 0, 1, 1]],\n",
       " [1, 1, 1, 1, 1, 0, 0, 0, [0, 1, 0, 1, 0, 1, 0, 0]],\n",
       " [1, 0, 1, 0, 1, 0, 0, 0, [0, 1, 0, 1, 0, 1, 0, 1]],\n",
       " [1, 1, 1, 1, 1, 0, 1, 1, [0, 1, 0, 1, 0, 1, 1, 0]],\n",
       " [0, 0, 0, 1, 0, 1, 0, 1, [0, 1, 0, 1, 0, 1, 1, 1]],\n",
       " [1, 1, 0, 1, 1, 1, 1, 1, [0, 1, 0, 1, 1, 0, 0, 0]],\n",
       " [1, 1, 0, 0, 1, 0, 1, 1, [0, 1, 0, 1, 1, 0, 0, 1]],\n",
       " [0, 0, 0, 0, 1, 1, 1, 0, [0, 1, 0, 1, 1, 0, 1, 0]],\n",
       " [1, 1, 1, 0, 0, 0, 1, 1, [0, 0, 1, 0, 0, 0, 0, 1]],\n",
       " [1, 1, 0, 0, 1, 0, 0, 1, [0, 0, 1, 0, 0, 0, 1, 0]],\n",
       " [1, 1, 0, 1, 0, 0, 1, 1, [0, 0, 1, 0, 0, 0, 1, 1]],\n",
       " [1, 1, 0, 1, 1, 0, 0, 1, [0, 0, 1, 0, 0, 1, 0, 0]],\n",
       " [1, 1, 0, 1, 1, 1, 0, 1, [0, 0, 1, 0, 0, 1, 0, 1]],\n",
       " [1, 1, 0, 1, 0, 1, 1, 0, [0, 0, 1, 0, 0, 1, 1, 0]],\n",
       " [1, 0, 1, 1, 1, 1, 0, 1, [0, 0, 1, 0, 0, 1, 1, 1]],\n",
       " [1, 1, 0, 1, 1, 0, 0, 0, [0, 0, 1, 0, 1, 0, 0, 0]],\n",
       " [1, 1, 1, 0, 0, 0, 0, 1, [0, 0, 1, 0, 1, 0, 0, 1]],\n",
       " [1, 1, 1, 1, 1, 1, 0, 0, [0, 0, 1, 0, 1, 0, 1, 0]],\n",
       " [1, 0, 0, 1, 1, 1, 0, 0, [0, 0, 1, 0, 1, 0, 1, 1]],\n",
       " [1, 1, 0, 1, 0, 0, 1, 0, [0, 0, 1, 0, 1, 1, 0, 0]],\n",
       " [1, 1, 1, 0, 0, 0, 0, 0, [0, 0, 1, 0, 1, 1, 0, 1]],\n",
       " [1, 0, 1, 0, 0, 0, 1, 0, [0, 0, 1, 0, 1, 1, 1, 0]],\n",
       " [1, 0, 1, 0, 0, 0, 0, 1, [0, 0, 1, 0, 1, 1, 1, 1]],\n",
       " [1, 1, 0, 0, 0, 0, 1, 0, [0, 0, 1, 1, 1, 0, 1, 0]],\n",
       " [1, 1, 1, 0, 1, 1, 1, 0, [0, 0, 1, 1, 1, 0, 1, 1]],\n",
       " [1, 1, 0, 0, 1, 0, 1, 0, [0, 0, 1, 1, 1, 1, 0, 0]],\n",
       " [1, 1, 0, 0, 0, 1, 1, 0, [0, 0, 1, 1, 1, 1, 0, 1]],\n",
       " [1, 1, 0, 0, 1, 0, 0, 0, [0, 0, 1, 1, 1, 1, 1, 0]],\n",
       " [1, 1, 0, 1, 1, 0, 0, 1, [0, 0, 1, 1, 1, 1, 1, 1]],\n",
       " [1, 1, 1, 0, 1, 0, 0, 1, [0, 1, 0, 0, 0, 0, 0, 0]],\n",
       " [1, 0, 1, 0, 0, 1, 0, 1, [0, 1, 0, 1, 1, 0, 1, 1]],\n",
       " [1, 0, 0, 1, 1, 0, 0, 0, [0, 1, 0, 1, 1, 1, 0, 0]],\n",
       " [1, 0, 1, 0, 1, 1, 0, 1, [0, 1, 0, 1, 1, 1, 0, 1]],\n",
       " [1, 1, 0, 1, 1, 1, 1, 1, [0, 1, 0, 1, 1, 1, 1, 0]],\n",
       " [1, 0, 0, 1, 0, 1, 1, 1, [0, 1, 0, 1, 1, 1, 1, 1]],\n",
       " [1, 0, 0, 1, 0, 0, 1, 0, [0, 1, 1, 0, 0, 0, 0, 0]],\n",
       " [1, 1, 1, 0, 0, 0, 0, 0, [0, 1, 1, 1, 1, 0, 1, 1]],\n",
       " [1, 1, 1, 0, 1, 0, 0, 0, [0, 1, 1, 1, 1, 1, 0, 0]],\n",
       " [1, 0, 1, 0, 0, 0, 0, 1, [0, 1, 1, 1, 1, 1, 0, 1]],\n",
       " [0, 0, 0, 1, 0, 0, 0, 1, [0, 1, 1, 1, 1, 1, 1, 0]],\n",
       " [0, 0, 0, 1, 0, 1, 1, 0, [0, 0, 1, 0, 0, 0, 0, 0]],\n",
       " [1, 0, 0, 1, 1, 0, 1, 0, [0, 0, 0, 0, 1, 0, 0, 1]],\n",
       " [1, 1, 1, 0, 0, 1, 1, 0, [0, 0, 0, 0, 1, 0, 1, 0]],\n",
       " [0, 0, 0, 1, 0, 1, 0, 0, [0, 0, 0, 0, 1, 1, 0, 1]],\n",
       " [0, 0, 0, 1, 0, 1, 1, 1, [0, 0, 0, 0, 1, 0, 1, 1]],\n",
       " [0, 0, 0, 1, 1, 1, 1, 1, [0, 0, 0, 0, 1, 1, 0, 0]]]"
      ]
     },
     "execution_count": 89,
     "metadata": {},
     "output_type": "execute_result"
    }
   ],
   "source": [
    "k"
   ]
  },
  {
   "cell_type": "code",
   "execution_count": 90,
   "metadata": {},
   "outputs": [],
   "source": [
    "\n",
    "c = list()\n",
    "for i in k:\n",
    "    s = \"\"\n",
    "    i = list(map(str,i))\n",
    "    c.append(s.join(i))"
   ]
  },
  {
   "cell_type": "code",
   "execution_count": 91,
   "metadata": {},
   "outputs": [
    {
     "data": {
      "text/plain": [
       "100"
      ]
     },
     "execution_count": 91,
     "metadata": {},
     "output_type": "execute_result"
    }
   ],
   "source": [
    "len(list( dict.fromkeys(c)))"
   ]
  },
  {
   "cell_type": "code",
   "execution_count": 649,
   "metadata": {
    "scrolled": true
   },
   "outputs": [
    {
     "data": {
      "text/plain": [
       "[[0, 0, 1, 1, 0, 0, 1, [0, 1, 1, 0, 0, 0, 0]],\n",
       " [0, 0, 0, 0, 0, 0, 0, [0, 1, 1, 0, 0, 0, 1]],\n",
       " [1, 1, 0, 0, 0, 0, 0, [0, 1, 1, 0, 0, 1, 0]],\n",
       " [1, 0, 1, 1, 1, 1, 0, [0, 1, 1, 0, 0, 1, 1]],\n",
       " [0, 0, 1, 0, 0, 1, 0, [0, 1, 1, 0, 1, 0, 0]],\n",
       " [0, 0, 1, 0, 1, 0, 1, [0, 1, 1, 0, 1, 0, 1]],\n",
       " [1, 0, 0, 0, 0, 0, 1, [0, 1, 1, 0, 1, 1, 0]],\n",
       " [1, 0, 0, 1, 1, 1, 1, [0, 1, 1, 0, 1, 1, 1]],\n",
       " [0, 1, 1, 1, 1, 0, 1, [0, 1, 1, 1, 0, 0, 0]],\n",
       " [1, 0, 1, 1, 1, 0, 0, [0, 1, 1, 1, 0, 0, 1]],\n",
       " [0, 1, 0, 0, 1, 0, 1, [1, 1, 0, 0, 0, 0, 1]],\n",
       " [0, 1, 0, 1, 1, 1, 0, [1, 1, 0, 0, 0, 1, 0]],\n",
       " [0, 1, 0, 1, 1, 1, 1, [1, 1, 0, 0, 0, 1, 1]],\n",
       " [1, 0, 1, 0, 1, 1, 0, [1, 1, 0, 0, 1, 0, 0]],\n",
       " [1, 1, 1, 0, 0, 0, 1, [1, 1, 0, 0, 1, 0, 1]],\n",
       " [1, 0, 0, 0, 1, 1, 0, [1, 1, 0, 0, 1, 1, 0]],\n",
       " [1, 0, 1, 1, 0, 0, 0, [1, 1, 0, 0, 1, 1, 1]],\n",
       " [0, 1, 0, 1, 1, 0, 1, [1, 1, 0, 1, 0, 0, 0]],\n",
       " [0, 1, 1, 1, 0, 1, 1, [1, 1, 0, 1, 0, 0, 1]],\n",
       " [0, 1, 1, 1, 0, 1, 1, [1, 1, 0, 1, 0, 1, 0]],\n",
       " [0, 1, 0, 1, 1, 0, 0, [1, 1, 0, 1, 0, 1, 1]],\n",
       " [1, 0, 1, 0, 0, 1, 1, [1, 1, 0, 1, 1, 0, 0]],\n",
       " [1, 1, 0, 1, 0, 1, 0, [1, 1, 0, 1, 1, 0, 1]],\n",
       " [0, 0, 1, 1, 0, 0, 0, [1, 1, 0, 1, 1, 1, 0]],\n",
       " [0, 0, 0, 0, 0, 0, 0, [1, 1, 0, 1, 1, 1, 1]],\n",
       " [1, 0, 0, 1, 0, 1, 1, [1, 1, 1, 0, 0, 0, 0]],\n",
       " [0, 0, 0, 0, 0, 1, 1, [1, 1, 1, 0, 0, 0, 1]],\n",
       " [1, 0, 0, 1, 0, 0, 0, [1, 1, 1, 0, 0, 1, 0]],\n",
       " [1, 0, 1, 1, 0, 0, 1, [1, 1, 1, 0, 0, 1, 1]],\n",
       " [1, 0, 0, 1, 1, 0, 0, [1, 1, 1, 0, 1, 0, 0]],\n",
       " [0, 0, 1, 0, 0, 0, 0, [1, 1, 1, 0, 1, 0, 1]],\n",
       " [0, 0, 0, 1, 0, 1, 0, [1, 1, 1, 0, 1, 1, 0]],\n",
       " [1, 0, 1, 0, 0, 0, 0, [1, 1, 1, 0, 1, 1, 1]],\n",
       " [0, 0, 0, 1, 0, 0, 1, [1, 1, 1, 1, 0, 0, 0]],\n",
       " [0, 1, 1, 1, 0, 0, 1, [1, 1, 1, 1, 0, 0, 1]],\n",
       " [1, 0, 1, 1, 0, 1, 0, [1, 1, 1, 1, 0, 1, 0]],\n",
       " [0, 1, 1, 0, 1, 1, 0, [1, 0, 0, 0, 0, 0, 1]],\n",
       " [0, 0, 0, 0, 1, 1, 0, [1, 0, 0, 0, 0, 1, 0]],\n",
       " [1, 0, 0, 0, 1, 0, 0, [1, 0, 0, 0, 0, 1, 1]],\n",
       " [0, 0, 0, 1, 1, 0, 1, [1, 0, 0, 0, 1, 0, 0]],\n",
       " [1, 0, 0, 0, 0, 1, 1, [1, 0, 0, 0, 1, 0, 1]],\n",
       " [0, 0, 0, 1, 1, 1, 1, [1, 0, 0, 0, 1, 1, 0]],\n",
       " [0, 1, 0, 0, 0, 1, 1, [1, 0, 0, 0, 1, 1, 1]],\n",
       " [1, 0, 1, 1, 1, 0, 1, [1, 0, 0, 1, 0, 0, 0]],\n",
       " [0, 0, 1, 1, 0, 1, 0, [1, 0, 0, 1, 0, 0, 1]],\n",
       " [0, 1, 0, 0, 1, 1, 0, [1, 0, 0, 1, 0, 1, 0]],\n",
       " [1, 0, 0, 0, 1, 1, 0, [1, 0, 0, 1, 0, 1, 1]],\n",
       " [0, 0, 1, 1, 1, 0, 0, [1, 0, 0, 1, 1, 0, 0]],\n",
       " [0, 0, 1, 0, 1, 1, 0, [1, 0, 0, 1, 1, 0, 1]],\n",
       " [1, 1, 1, 1, 1, 0, 1, [1, 0, 0, 1, 1, 1, 0]],\n",
       " [1, 0, 0, 1, 0, 0, 1, [1, 0, 0, 1, 1, 1, 1]],\n",
       " [0, 0, 0, 1, 0, 1, 1, [1, 0, 1, 0, 0, 0, 0]],\n",
       " [1, 0, 1, 1, 0, 1, 1, [1, 0, 1, 0, 0, 0, 1]],\n",
       " [0, 0, 1, 0, 1, 1, 1, [1, 0, 1, 0, 0, 1, 0]],\n",
       " [0, 1, 1, 0, 0, 0, 1, [1, 0, 1, 0, 0, 1, 1]],\n",
       " [1, 0, 1, 0, 0, 0, 1, [1, 0, 1, 0, 1, 0, 0]],\n",
       " [1, 1, 0, 1, 0, 0, 1, [1, 0, 1, 0, 1, 0, 1]],\n",
       " [1, 1, 0, 0, 1, 0, 1, [1, 0, 1, 0, 1, 1, 0]],\n",
       " [1, 1, 1, 1, 1, 0, 1, [1, 0, 1, 0, 1, 1, 1]],\n",
       " [1, 0, 1, 0, 1, 0, 0, [1, 0, 1, 1, 0, 0, 0]],\n",
       " [1, 1, 1, 1, 0, 1, 0, [1, 0, 1, 1, 0, 0, 1]],\n",
       " [1, 1, 0, 1, 1, 0, 1, [1, 0, 1, 1, 0, 1, 0]],\n",
       " [1, 0, 0, 0, 0, 1, 0, [0, 1, 0, 0, 0, 0, 1]],\n",
       " [1, 1, 0, 1, 1, 1, 0, [0, 1, 0, 0, 0, 1, 0]],\n",
       " [0, 1, 0, 0, 0, 0, 0, [0, 1, 0, 0, 0, 1, 1]],\n",
       " [1, 1, 0, 0, 1, 1, 0, [0, 1, 0, 0, 1, 0, 0]],\n",
       " [0, 0, 0, 0, 1, 0, 0, [0, 1, 0, 0, 1, 0, 1]],\n",
       " [1, 1, 1, 0, 1, 1, 0, [0, 1, 0, 0, 1, 1, 0]],\n",
       " [1, 1, 0, 1, 0, 0, 1, [0, 1, 0, 0, 1, 1, 1]],\n",
       " [0, 1, 1, 1, 1, 1, 0, [0, 1, 0, 1, 0, 0, 0]],\n",
       " [0, 0, 1, 0, 0, 0, 1, [0, 1, 0, 1, 0, 0, 1]],\n",
       " [1, 1, 1, 1, 0, 0, 1, [0, 1, 0, 1, 0, 1, 0]],\n",
       " [1, 1, 1, 1, 0, 0, 0, [0, 1, 0, 1, 0, 1, 1]],\n",
       " [1, 1, 1, 0, 0, 1, 0, [0, 1, 0, 1, 1, 0, 0]],\n",
       " [0, 1, 1, 0, 1, 0, 1, [0, 1, 0, 1, 1, 0, 1]],\n",
       " [1, 0, 0, 1, 0, 1, 0, [0, 1, 0, 1, 1, 1, 0]],\n",
       " [1, 0, 1, 0, 0, 1, 0, [0, 1, 0, 1, 1, 1, 1]],\n",
       " [0, 1, 0, 0, 1, 0, 0, [0, 1, 1, 1, 0, 1, 0]],\n",
       " [1, 0, 0, 0, 0, 0, 0, [0, 1, 1, 1, 0, 1, 1]],\n",
       " [0, 0, 0, 0, 0, 0, 1, [0, 1, 1, 1, 1, 0, 0]],\n",
       " [0, 0, 0, 0, 0, 0, 0, [0, 1, 1, 1, 1, 0, 1]],\n",
       " [0, 1, 0, 0, 0, 0, 1, [0, 1, 1, 1, 1, 1, 0]],\n",
       " [1, 0, 1, 0, 1, 0, 1, [0, 1, 1, 1, 1, 1, 1]],\n",
       " [0, 1, 1, 0, 1, 1, 1, [1, 0, 0, 0, 0, 0, 0]],\n",
       " [1, 1, 0, 1, 1, 1, 1, [1, 0, 1, 1, 0, 1, 1]],\n",
       " [1, 1, 1, 0, 1, 0, 0, [1, 0, 1, 1, 1, 0, 0]],\n",
       " [1, 0, 0, 1, 1, 0, 0, [1, 0, 1, 1, 1, 0, 1]],\n",
       " [0, 0, 1, 1, 0, 1, 1, [1, 0, 1, 1, 1, 1, 0]],\n",
       " [1, 1, 0, 0, 1, 0, 1, [1, 0, 1, 1, 1, 1, 1]],\n",
       " [0, 1, 0, 1, 0, 1, 1, [1, 1, 0, 0, 0, 0, 0]],\n",
       " [1, 1, 0, 0, 0, 1, 0, [1, 1, 1, 1, 0, 1, 1]],\n",
       " [1, 1, 1, 0, 0, 1, 1, [1, 1, 1, 1, 1, 0, 0]],\n",
       " [1, 1, 0, 1, 0, 1, 1, [1, 1, 1, 1, 1, 0, 1]],\n",
       " [0, 1, 1, 0, 0, 0, 1, [1, 1, 1, 1, 1, 1, 0]],\n",
       " [0, 1, 1, 0, 0, 1, 0, [0, 1, 0, 0, 0, 0, 0]],\n",
       " [1, 1, 1, 1, 1, 1, 1, [0, 0, 0, 1, 0, 0, 1]],\n",
       " [1, 1, 0, 0, 1, 1, 0, [0, 0, 0, 1, 0, 1, 0]],\n",
       " [0, 1, 1, 0, 1, 1, 1, [0, 0, 0, 1, 1, 0, 1]],\n",
       " [1, 0, 1, 1, 1, 1, 0, [0, 0, 0, 1, 0, 1, 1]],\n",
       " [1, 1, 0, 0, 1, 0, 1, [0, 0, 0, 1, 1, 0, 0]]]"
      ]
     },
     "execution_count": 649,
     "metadata": {},
     "output_type": "execute_result"
    }
   ],
   "source": [
    "k"
   ]
  },
  {
   "cell_type": "code",
   "execution_count": 97,
   "metadata": {
    "scrolled": true
   },
   "outputs": [
    {
     "name": "stdout",
     "output_type": "stream",
     "text": [
      "99\n"
     ]
    }
   ],
   "source": []
  },
  {
   "cell_type": "code",
   "execution_count": 93,
   "metadata": {},
   "outputs": [],
   "source": [
    "t = np.random.randint(2, size= 8)\n",
    "\"\".join(map(str, t))\n",
    "p = \"\".join([str(a) for a in t])\n",
    "if p in c:\n",
    "    flag = 1\n",
    "    while flag:\n",
    "        t = np.random.randint(2, size= 8)\n",
    "        \"\".join(map(str, t))\n",
    "        p = \"\".join([str(a) for a in t])\n",
    "        if p in c:\n",
    "            flag = 1\n",
    "        else:\n",
    "            flag = 0"
   ]
  },
  {
   "cell_type": "code",
   "execution_count": 94,
   "metadata": {},
   "outputs": [],
   "source": [
    "c = list()\n",
    "for i in k:\n",
    "    s = \"\"\n",
    "    i = list(map(str,i))\n",
    "    c.append(s.join(i))"
   ]
  },
  {
   "cell_type": "code",
   "execution_count": 95,
   "metadata": {},
   "outputs": [
    {
     "data": {
      "text/plain": [
       "100"
      ]
     },
     "execution_count": 95,
     "metadata": {},
     "output_type": "execute_result"
    }
   ],
   "source": [
    "len(list( dict.fromkeys(c)))"
   ]
  },
  {
   "cell_type": "code",
   "execution_count": 323,
   "metadata": {},
   "outputs": [],
   "source": [
    "count = 0\n",
    "dataset = list()\n",
    "for i in ascii_list:\n",
    "    p = list(i)\n",
    "    p = list(map(int,p))\n",
    "    j = list(k[count])\n",
    "    j = list(map(int,j))\n",
    "    count += 1\n",
    "    p.append(j)\n",
    "    dataset.append(p)"
   ]
  },
  {
   "cell_type": "code",
   "execution_count": 328,
   "metadata": {},
   "outputs": [
    {
     "data": {
      "text/plain": [
       "list"
      ]
     },
     "execution_count": 328,
     "metadata": {},
     "output_type": "execute_result"
    }
   ],
   "source": [
    "type(network)"
   ]
  },
  {
   "cell_type": "code",
   "execution_count": 331,
   "metadata": {},
   "outputs": [],
   "source": [
    "import json\n",
    "my_list = ['a', 'b', 'c']\n",
    "my_json_string = json.dumps(my_list)"
   ]
  },
  {
   "cell_type": "code",
   "execution_count": 335,
   "metadata": {},
   "outputs": [],
   "source": [
    "my_network_json = json.dumps(network)"
   ]
  },
  {
   "cell_type": "code",
   "execution_count": 26,
   "metadata": {},
   "outputs": [],
   "source": [
    "# -*- coding: utf-8 -*-\n",
    "import json\n",
    "\n",
    "# Make it work for Python 2+3 and with Unicode\n",
    "import io\n",
    "try:\n",
    "    to_unicode = unicode\n",
    "except NameError:\n",
    "    to_unicode = str"
   ]
  },
  {
   "cell_type": "raw",
   "metadata": {},
   "source": [
    "######Write JSON file\n",
    "with io.open('../network/network.json', 'w', encoding='utf8') as outfile:\n",
    "    str_ = json.dumps(network,\n",
    "                      indent=4, sort_keys=True,\n",
    "                      separators=(',', ': '), ensure_ascii=False)\n",
    "    outfile.write(to_unicode(str_))"
   ]
  },
  {
   "cell_type": "code",
   "execution_count": 27,
   "metadata": {},
   "outputs": [],
   "source": [
    "# Read JSON file\n",
    "with open('../network/network.json') as data_file:\n",
    "    new_network = json.load(data_file)"
   ]
  },
  {
   "cell_type": "code",
   "execution_count": 61,
   "metadata": {},
   "outputs": [],
   "source": [
    "new_data =list()\n",
    "for i in ascii_list:\n",
    "    new_data.append(list(map(int,list(i))))"
   ]
  },
  {
   "cell_type": "code",
   "execution_count": 62,
   "metadata": {
    "scrolled": true
   },
   "outputs": [
    {
     "data": {
      "text/plain": [
       "[[0, 0, 1, 1, 0, 0, 0, 0],\n",
       " [0, 0, 1, 1, 0, 0, 0, 1],\n",
       " [0, 0, 1, 1, 0, 0, 1, 0],\n",
       " [0, 0, 1, 1, 0, 0, 1, 1],\n",
       " [0, 0, 1, 1, 0, 1, 0, 0],\n",
       " [0, 0, 1, 1, 0, 1, 0, 1],\n",
       " [0, 0, 1, 1, 0, 1, 1, 0],\n",
       " [0, 0, 1, 1, 0, 1, 1, 1],\n",
       " [0, 0, 1, 1, 1, 0, 0, 0],\n",
       " [0, 0, 1, 1, 1, 0, 0, 1],\n",
       " [0, 1, 1, 0, 0, 0, 0, 1],\n",
       " [0, 1, 1, 0, 0, 0, 1, 0],\n",
       " [0, 1, 1, 0, 0, 0, 1, 1],\n",
       " [0, 1, 1, 0, 0, 1, 0, 0],\n",
       " [0, 1, 1, 0, 0, 1, 0, 1],\n",
       " [0, 1, 1, 0, 0, 1, 1, 0],\n",
       " [0, 1, 1, 0, 0, 1, 1, 1],\n",
       " [0, 1, 1, 0, 1, 0, 0, 0],\n",
       " [0, 1, 1, 0, 1, 0, 0, 1],\n",
       " [0, 1, 1, 0, 1, 0, 1, 0],\n",
       " [0, 1, 1, 0, 1, 0, 1, 1],\n",
       " [0, 1, 1, 0, 1, 1, 0, 0],\n",
       " [0, 1, 1, 0, 1, 1, 0, 1],\n",
       " [0, 1, 1, 0, 1, 1, 1, 0],\n",
       " [0, 1, 1, 0, 1, 1, 1, 1],\n",
       " [0, 1, 1, 1, 0, 0, 0, 0],\n",
       " [0, 1, 1, 1, 0, 0, 0, 1],\n",
       " [0, 1, 1, 1, 0, 0, 1, 0],\n",
       " [0, 1, 1, 1, 0, 0, 1, 1],\n",
       " [0, 1, 1, 1, 0, 1, 0, 0],\n",
       " [0, 1, 1, 1, 0, 1, 0, 1],\n",
       " [0, 1, 1, 1, 0, 1, 1, 0],\n",
       " [0, 1, 1, 1, 0, 1, 1, 1],\n",
       " [0, 1, 1, 1, 1, 0, 0, 0],\n",
       " [0, 1, 1, 1, 1, 0, 0, 1],\n",
       " [0, 1, 1, 1, 1, 0, 1, 0],\n",
       " [0, 1, 0, 0, 0, 0, 0, 1],\n",
       " [0, 1, 0, 0, 0, 0, 1, 0],\n",
       " [0, 1, 0, 0, 0, 0, 1, 1],\n",
       " [0, 1, 0, 0, 0, 1, 0, 0],\n",
       " [0, 1, 0, 0, 0, 1, 0, 1],\n",
       " [0, 1, 0, 0, 0, 1, 1, 0],\n",
       " [0, 1, 0, 0, 0, 1, 1, 1],\n",
       " [0, 1, 0, 0, 1, 0, 0, 0],\n",
       " [0, 1, 0, 0, 1, 0, 0, 1],\n",
       " [0, 1, 0, 0, 1, 0, 1, 0],\n",
       " [0, 1, 0, 0, 1, 0, 1, 1],\n",
       " [0, 1, 0, 0, 1, 1, 0, 0],\n",
       " [0, 1, 0, 0, 1, 1, 0, 1],\n",
       " [0, 1, 0, 0, 1, 1, 1, 0],\n",
       " [0, 1, 0, 0, 1, 1, 1, 1],\n",
       " [0, 1, 0, 1, 0, 0, 0, 0],\n",
       " [0, 1, 0, 1, 0, 0, 0, 1],\n",
       " [0, 1, 0, 1, 0, 0, 1, 0],\n",
       " [0, 1, 0, 1, 0, 0, 1, 1],\n",
       " [0, 1, 0, 1, 0, 1, 0, 0],\n",
       " [0, 1, 0, 1, 0, 1, 0, 1],\n",
       " [0, 1, 0, 1, 0, 1, 1, 0],\n",
       " [0, 1, 0, 1, 0, 1, 1, 1],\n",
       " [0, 1, 0, 1, 1, 0, 0, 0],\n",
       " [0, 1, 0, 1, 1, 0, 0, 1],\n",
       " [0, 1, 0, 1, 1, 0, 1, 0],\n",
       " [0, 0, 1, 0, 0, 0, 0, 1],\n",
       " [0, 0, 1, 0, 0, 0, 1, 0],\n",
       " [0, 0, 1, 0, 0, 0, 1, 1],\n",
       " [0, 0, 1, 0, 0, 1, 0, 0],\n",
       " [0, 0, 1, 0, 0, 1, 0, 1],\n",
       " [0, 0, 1, 0, 0, 1, 1, 0],\n",
       " [0, 0, 1, 0, 0, 1, 1, 1],\n",
       " [0, 0, 1, 0, 1, 0, 0, 0],\n",
       " [0, 0, 1, 0, 1, 0, 0, 1],\n",
       " [0, 0, 1, 0, 1, 0, 1, 0],\n",
       " [0, 0, 1, 0, 1, 0, 1, 1],\n",
       " [0, 0, 1, 0, 1, 1, 0, 0],\n",
       " [0, 0, 1, 0, 1, 1, 0, 1],\n",
       " [0, 0, 1, 0, 1, 1, 1, 0],\n",
       " [0, 0, 1, 0, 1, 1, 1, 1],\n",
       " [0, 0, 1, 1, 1, 0, 1, 0],\n",
       " [0, 0, 1, 1, 1, 0, 1, 1],\n",
       " [0, 0, 1, 1, 1, 1, 0, 0],\n",
       " [0, 0, 1, 1, 1, 1, 0, 1],\n",
       " [0, 0, 1, 1, 1, 1, 1, 0],\n",
       " [0, 0, 1, 1, 1, 1, 1, 1],\n",
       " [0, 1, 0, 0, 0, 0, 0, 0],\n",
       " [0, 1, 0, 1, 1, 0, 1, 1],\n",
       " [0, 1, 0, 1, 1, 1, 0, 0],\n",
       " [0, 1, 0, 1, 1, 1, 0, 1],\n",
       " [0, 1, 0, 1, 1, 1, 1, 0],\n",
       " [0, 1, 0, 1, 1, 1, 1, 1],\n",
       " [0, 1, 1, 0, 0, 0, 0, 0],\n",
       " [0, 1, 1, 1, 1, 0, 1, 1],\n",
       " [0, 1, 1, 1, 1, 1, 0, 0],\n",
       " [0, 1, 1, 1, 1, 1, 0, 1],\n",
       " [0, 1, 1, 1, 1, 1, 1, 0],\n",
       " [0, 0, 1, 0, 0, 0, 0, 0],\n",
       " [0, 0, 0, 0, 1, 0, 0, 1],\n",
       " [0, 0, 0, 0, 1, 0, 1, 0],\n",
       " [0, 0, 0, 0, 1, 1, 0, 1],\n",
       " [0, 0, 0, 0, 1, 0, 1, 1],\n",
       " [0, 0, 0, 0, 1, 1, 0, 0]]"
      ]
     },
     "execution_count": 62,
     "metadata": {},
     "output_type": "execute_result"
    }
   ],
   "source": [
    "new_data"
   ]
  },
  {
   "cell_type": "code",
   "execution_count": 30,
   "metadata": {},
   "outputs": [],
   "source": [
    "for i in new_data:\n",
    "    i.append(0)"
   ]
  },
  {
   "cell_type": "code",
   "execution_count": 31,
   "metadata": {},
   "outputs": [],
   "source": [
    "en = list()\n",
    "for i in range(len(new_data)):\n",
    "    en.append(predict(new_network,new_data[i],0))"
   ]
  },
  {
   "cell_type": "code",
   "execution_count": 32,
   "metadata": {},
   "outputs": [],
   "source": [
    "for i in range(len(new_data)):\n",
    "    en[i].append(new_data[i][:-1])"
   ]
  },
  {
   "cell_type": "code",
   "execution_count": 33,
   "metadata": {
    "scrolled": true
   },
   "outputs": [],
   "source": [
    "# Write JSON file\n",
    "with io.open('../datasets/languageDecryptor.json', 'w', encoding='utf8') as outfile:\n",
    "    str_ = json.dumps(en,\n",
    "                      indent=4, sort_keys=True,\n",
    "                      separators=(',', ': '), ensure_ascii=False)\n",
    "    outfile.write(to_unicode(str_))"
   ]
  },
  {
   "cell_type": "code",
   "execution_count": 36,
   "metadata": {},
   "outputs": [
    {
     "name": "stdout",
     "output_type": "stream",
     "text": [
      "Hello good afternoon ladies and gentlemen.\n",
      "\n",
      "This is the official testing document for encryptor & decryptor efficiency.\n",
      "\n",
      "The following message is just a garbage and is only checked for efficiency\n",
      "\n",
      "A\n",
      "\n",
      "G\n",
      "\n",
      "BhjUi\n",
      "\n",
      "$342@/.dj\n",
      "\n",
      "jSjjd\n"
     ]
    }
   ],
   "source": [
    "data = list()\n",
    "f=open(\"../asciiTextData/initialTestDocument.txt\",\"r\")\n",
    "line=f.readline()\n",
    "while line!='':\n",
    "    data.append(line)\n",
    "    print(line)\n",
    "    line=f.readline()    "
   ]
  },
  {
   "cell_type": "code",
   "execution_count": 51,
   "metadata": {},
   "outputs": [],
   "source": [
    "f=open('./test.txt','w')\n",
    "a = [8,1,1,8]\n",
    "f.write(str(a))\n",
    "f.close()\n",
    " "
   ]
  },
  {
   "cell_type": "code",
   "execution_count": 37,
   "metadata": {},
   "outputs": [
    {
     "name": "stdout",
     "output_type": "stream",
     "text": [
      "data conversion preserved\n"
     ]
    }
   ],
   "source": [
    "bit_data = list()\n",
    "for i in data:\n",
    "    bit_data.append(text_to_bits(i))\n",
    "flag = 1\n",
    "for i in range(len(bit_data)):\n",
    "    if ((len(bit_data[i]))%8) != 0:\n",
    "        print(\"data corrupted\")\n",
    "        flag = 0\n",
    "        break\n",
    "\n",
    "if flag:\n",
    "    print(\"data conversion preserved\")"
   ]
  },
  {
   "cell_type": "code",
   "execution_count": 38,
   "metadata": {
    "scrolled": false
   },
   "outputs": [
    {
     "name": "stdout",
     "output_type": "stream",
     "text": [
      "data input is ready\n"
     ]
    }
   ],
   "source": [
    "input_data = list()\n",
    "for i in bit_data:\n",
    "    l = len(i)\n",
    "    k = int(l/8)\n",
    "    c = 0\n",
    "    for j in range(k):\n",
    "        s = i[c:c+8]\n",
    "        input_data.append(s)\n",
    "        c += 8\n",
    "        \n",
    "c = 0\n",
    "for i in bit_data:\n",
    "    l = len(i)\n",
    "    c += int(l/8)\n",
    "\n",
    "if c == len(input_data):\n",
    "    print(\"data input is ready\")\n",
    "\n",
    "input_data_final = list()\n",
    "for i in input_data:\n",
    "    a = list(i)\n",
    "    b = list(i)\n",
    "    a = list(map(int,a))\n",
    "    b = list(map(int,b))\n",
    "    a.append(b)\n",
    "    input_data_final.append(a)"
   ]
  },
  {
   "cell_type": "code",
   "execution_count": 39,
   "metadata": {},
   "outputs": [],
   "source": [
    "encrypted_data = list()\n",
    "for i in input_data_final:\n",
    "    encrypted_data.append(predict(new_network,i,0))"
   ]
  },
  {
   "cell_type": "code",
   "execution_count": 40,
   "metadata": {},
   "outputs": [],
   "source": [
    "encrypted_data_final = list()\n",
    "for i in encrypted_data:\n",
    "    s = \"\"\n",
    "    i = list(map(str,i))\n",
    "    encrypted_data_final.append(s.join(i))"
   ]
  },
  {
   "cell_type": "code",
   "execution_count": 49,
   "metadata": {
    "scrolled": true
   },
   "outputs": [],
   "source": [
    "s = \"\"\n",
    "for i in encrypted_data_final:\n",
    "    s += i"
   ]
  },
  {
   "cell_type": "code",
   "execution_count": 50,
   "metadata": {},
   "outputs": [
    {
     "data": {
      "text/plain": [
       "'000000011001100111110101111101011101000111100111100111001101000111010001101101001110011110101010100000111110011010011001100101010001100011010001110100010001100011100111111101011010101010110100101000011001100100010110111001111010101000011000101101001110011110011100100110010001100011100110111101011001100111010101100110010001100000010011101101111011110111011100101000010001011011100111101000010001011011100111111001101101110010011001111001111101000110000011100000111010000110001101101000011010101011110101111001111110011010011001000101101110011010100001000110001001110011100111101101001101000110001101111111011101010110011001000110001110011011100111100000111101000110010101111001111001100100011000100011011001010110011000101111111110011011010001100101011110011111001011111001111011010010011001100011011001010110011000101111111110011011010001100101011110011110011001100000111000001110100001100011011010000110011001000110001000110110011000000100111011011110111101110111001001100111100111100000111101000111110101111101011101000110110101101000010001100010011100111001111101010110011001000101100001011010101010100111001001100111100111101000010001011011100111100000001111110100010110111001101110011110101010111001111001110010101010100101011001011110101010100111001001100111100111101010100001100010110100111001111010000100010110111001111101000100011000111101011001100011100111100011011101110010011001100011011101001010011001101101001110011110000011110100011001010111100111100110011000001110000011101000011000110110100001100110010001100010001101100110001011011100001010101101111000100010110111011111111101110010000000111100111010000110110111000000001011111010100110110001101100001111110010000100111011010010000000101101111000000010010000100000001000000010110100'"
      ]
     },
     "execution_count": 50,
     "metadata": {},
     "output_type": "execute_result"
    }
   ],
   "source": [
    "s"
   ]
  },
  {
   "cell_type": "code",
   "execution_count": 53,
   "metadata": {
    "scrolled": true
   },
   "outputs": [],
   "source": [
    "# encoding the text\n",
    "code =  base64.b64encode(zlib.compress(s.encode('utf-8'),9))\n",
    "code = code.decode('utf-8')\n",
    "f=open('../asciiTextData/encrypted.txt','w')\n",
    "f.write(code)\n",
    "f.close()\n"
   ]
  },
  {
   "cell_type": "code",
   "execution_count": 55,
   "metadata": {},
   "outputs": [
    {
     "name": "stdout",
     "output_type": "stream",
     "text": [
      "Compressed text: \n",
      "eNqtVIENwzAIe8n8/9yqFYOdhKrS1qnJlhFjMAB8nwi+14PQ/Vrvc1m/xnmee560HT8AYcskX9TdHa/PySr5FG6C3R4aE/nXwqPwNp75Ve6LX7Rf5gf2m/YAUetSLsQPYOB3PC//zi9UpfIdskusDBaSt9bX/ZzzZ7yjg1T+vGxaUrEpX5JfRgVJSNWH6eQ8Mj7DR7mW/B3xomw9DgjWL/iC806fOb539bXUx5rPqa/RffWo80HHZOZdiYnPVP/oCRGH+lvnyda37Rell82fkc/zXJj6cptPXh8S11EfOQd0Hm5z6VU//Ku+OkjIfI22lWikt6H6uf/GQ/dNRawNJoNoqXPBFz40okC+3/c+XlZMGg==\n"
     ]
    }
   ],
   "source": [
    "print(\"Compressed text: \\n\"+code)\n"
   ]
  },
  {
   "cell_type": "code",
   "execution_count": 56,
   "metadata": {},
   "outputs": [],
   "source": [
    "file = open('../asciiTextData/encrypted.txt','r')\n",
    "text = file.read()\n",
    "file.close()"
   ]
  },
  {
   "cell_type": "code",
   "execution_count": 57,
   "metadata": {},
   "outputs": [
    {
     "data": {
      "text/plain": [
       "'eNqtVIENwzAIe8n8/9yqFYOdhKrS1qnJlhFjMAB8nwi+14PQ/Vrvc1m/xnmee560HT8AYcskX9TdHa/PySr5FG6C3R4aE/nXwqPwNp75Ve6LX7Rf5gf2m/YAUetSLsQPYOB3PC//zi9UpfIdskusDBaSt9bX/ZzzZ7yjg1T+vGxaUrEpX5JfRgVJSNWH6eQ8Mj7DR7mW/B3xomw9DgjWL/iC806fOb539bXUx5rPqa/RffWo80HHZOZdiYnPVP/oCRGH+lvnyda37Rell82fkc/zXJj6cptPXh8S11EfOQd0Hm5z6VU//Ku+OkjIfI22lWikt6H6uf/GQ/dNRawNJoNoqXPBFz40okC+3/c+XlZMGg=='"
      ]
     },
     "execution_count": 57,
     "metadata": {},
     "output_type": "execute_result"
    }
   ],
   "source": [
    "text"
   ]
  },
  {
   "cell_type": "code",
   "execution_count": 58,
   "metadata": {},
   "outputs": [],
   "source": [
    "decoded_txt = zlib.decompress(base64.b64decode(text))"
   ]
  },
  {
   "cell_type": "code",
   "execution_count": 59,
   "metadata": {},
   "outputs": [],
   "source": [
    "output = decoded_txt.decode()"
   ]
  },
  {
   "cell_type": "code",
   "execution_count": 60,
   "metadata": {
    "scrolled": true
   },
   "outputs": [
    {
     "data": {
      "text/plain": [
       "'000000011001100111110101111101011101000111100111100111001101000111010001101101001110011110101010100000111110011010011001100101010001100011010001110100010001100011100111111101011010101010110100101000011001100100010110111001111010101000011000101101001110011110011100100110010001100011100110111101011001100111010101100110010001100000010011101101111011110111011100101000010001011011100111101000010001011011100111111001101101110010011001111001111101000110000011100000111010000110001101101000011010101011110101111001111110011010011001000101101110011010100001000110001001110011100111101101001101000110001101111111011101010110011001000110001110011011100111100000111101000110010101111001111001100100011000100011011001010110011000101111111110011011010001100101011110011111001011111001111011010010011001100011011001010110011000101111111110011011010001100101011110011110011001100000111000001110100001100011011010000110011001000110001000110110011000000100111011011110111101110111001001100111100111100000111101000111110101111101011101000110110101101000010001100010011100111001111101010110011001000101100001011010101010100111001001100111100111101000010001011011100111100000001111110100010110111001101110011110101010111001111001110010101010100101011001011110101010100111001001100111100111101010100001100010110100111001111010000100010110111001111101000100011000111101011001100011100111100011011101110010011001100011011101001010011001101101001110011110000011110100011001010111100111100110011000001110000011101000011000110110100001100110010001100010001101100110001011011100001010101101111000100010110111011111111101110010000000111100111010000110110111000000001011111010100110110001101100001111110010000100111011010010000000101101111000000010010000100000001000000010110100'"
      ]
     },
     "execution_count": 60,
     "metadata": {},
     "output_type": "execute_result"
    }
   ],
   "source": [
    "output"
   ]
  },
  {
   "cell_type": "code",
   "execution_count": 86,
   "metadata": {},
   "outputs": [],
   "source": [
    "from datetime import datetime\n"
   ]
  },
  {
   "cell_type": "code",
   "execution_count": 93,
   "metadata": {},
   "outputs": [
    {
     "data": {
      "text/plain": [
       "'2020_03_22_183036.txt'"
      ]
     },
     "execution_count": 93,
     "metadata": {},
     "output_type": "execute_result"
    }
   ],
   "source": [
    "now = datetime.now()\n",
    "d1 = now.strftime(\"%Y_%m_%d_%H%M%S\")+\".txt\"\n",
    "d1"
   ]
  },
  {
   "cell_type": "code",
   "execution_count": 77,
   "metadata": {},
   "outputs": [
    {
     "data": {
      "text/plain": [
       "str"
      ]
     },
     "execution_count": 77,
     "metadata": {},
     "output_type": "execute_result"
    }
   ],
   "source": [
    "type(d1)"
   ]
  },
  {
   "cell_type": "code",
   "execution_count": 43,
   "metadata": {},
   "outputs": [
    {
     "data": {
      "text/plain": [
       "'01111100011000010110010001100110001100100011001100101101'"
      ]
     },
     "execution_count": 43,
     "metadata": {},
     "output_type": "execute_result"
    }
   ],
   "source": [
    "text_to_bits(\"|adf23-\")\n"
   ]
  },
  {
   "cell_type": "code",
   "execution_count": 30,
   "metadata": {},
   "outputs": [
    {
     "ename": "ModuleNotFoundError",
     "evalue": "No module named 'docx'",
     "output_type": "error",
     "traceback": [
      "\u001b[0;31m---------------------------------------------------------------------------\u001b[0m",
      "\u001b[0;31mModuleNotFoundError\u001b[0m                       Traceback (most recent call last)",
      "\u001b[0;32m<ipython-input-30-6d471520889f>\u001b[0m in \u001b[0;36m<module>\u001b[0;34m\u001b[0m\n\u001b[0;32m----> 1\u001b[0;31m \u001b[0;32mfrom\u001b[0m \u001b[0mdocx\u001b[0m \u001b[0;32mimport\u001b[0m \u001b[0mDocument\u001b[0m\u001b[0;34m\u001b[0m\u001b[0;34m\u001b[0m\u001b[0m\n\u001b[0m",
      "\u001b[0;31mModuleNotFoundError\u001b[0m: No module named 'docx'"
     ]
    }
   ],
   "source": [
    "from docx import Document"
   ]
  },
  {
   "cell_type": "code",
   "execution_count": null,
   "metadata": {},
   "outputs": [],
   "source": []
  }
 ],
 "metadata": {
  "kernelspec": {
   "display_name": "Python 3",
   "language": "python",
   "name": "python3"
  },
  "language_info": {
   "codemirror_mode": {
    "name": "ipython",
    "version": 3
   },
   "file_extension": ".py",
   "mimetype": "text/x-python",
   "name": "python",
   "nbconvert_exporter": "python",
   "pygments_lexer": "ipython3",
   "version": "3.6.8"
  }
 },
 "nbformat": 4,
 "nbformat_minor": 4
}

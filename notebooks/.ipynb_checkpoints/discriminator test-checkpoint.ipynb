{
 "cells": [
  {
   "cell_type": "code",
   "execution_count": 137,
   "metadata": {},
   "outputs": [],
   "source": [
    "import tensorflow as tf\n",
    "from nltk.corpus import words\n",
    "import timeit\n",
    "import geocoder\n",
    "import time\n",
    "import sys\n",
    "import numpy as np"
   ]
  },
  {
   "cell_type": "code",
   "execution_count": 45,
   "metadata": {},
   "outputs": [],
   "source": [
    "start = timeit.default_timer()\n",
    "corpus = words.words()\n",
    "bit_code = []\n",
    "bit_code_len = []\n",
    "for j in corpus:\n",
    "    res = ''.join(format(ord(i), 'b') for i in j)\n",
    "    bit_code.append(res)\n",
    "    bit_code_len.append(len(res))\n",
    "stop = timeit.default_timer()"
   ]
  },
  {
   "cell_type": "code",
   "execution_count": 46,
   "metadata": {},
   "outputs": [
    {
     "name": "stdout",
     "output_type": "stream",
     "text": [
      "Time:  1.217303079989506\n"
     ]
    }
   ],
   "source": [
    "print('Time: ', stop - start)  "
   ]
  },
  {
   "cell_type": "code",
   "execution_count": 103,
   "metadata": {},
   "outputs": [],
   "source": [
    "def getDigitalSign(name):\n",
    "    res = ''\n",
    "    res = res.join(format(ord(i), 'b') for i in name)\n",
    "    t = str(time.time())\n",
    "    res = res.join(format(ord(i), 'b') for i in t)\n",
    "    g = geocoder.ip('me')\n",
    "    lat = str(g.latlng[0])\n",
    "    lon = str(g.latlng[1])\n",
    "    res = res.join(format(ord(i), 'b') for i in lat)\n",
    "    res = res.join(format(ord(i), 'b') for i in lon)\n",
    "    res = getHashSignature(res)\n",
    "    return res"
   ]
  },
  {
   "cell_type": "code",
   "execution_count": 200,
   "metadata": {},
   "outputs": [],
   "source": [
    "def getHashSignature(sign):\n",
    "    l = len(sign)\n",
    "    pad = l % 1024\n",
    "    t = np.random.randint(2, size= 1024-pad)\n",
    "    \"\".join(map(str, t))\n",
    "    a = \"\".join([str(a) for a in t])\n",
    "    sign = sign+a\n",
    "    l = len(sign)\n",
    "    k = sign[0:1024]\n",
    "    j = 1\n",
    "    for i in range(1024,l-2048,1024):\n",
    "        k = getXOR(k,sign[i+1024:i+2048])\n",
    "    return k\n"
   ]
  },
  {
   "cell_type": "code",
   "execution_count": 201,
   "metadata": {},
   "outputs": [],
   "source": [
    "def addZeros(strr, n): \n",
    "    for i in range(n): \n",
    "        strr = \"0\" + strr \n",
    "    return strr \n",
    "\n",
    "def getXOR(a, b): \n",
    "    aLen = len(a) \n",
    "    bLen = len(b) \n",
    "\n",
    "\n",
    "    if (aLen > bLen): \n",
    "        b = addZeros(b, aLen - bLen) \n",
    "    elif (bLen > aLen): \n",
    "        a = addZeros(a, bLen - aLen) \n",
    " \n",
    "    lenn = max(aLen, bLen); \n",
    "\n",
    "    res = \"\" \n",
    "    for i in range(lenn): \n",
    "        if (a[i] == b[i]): \n",
    "            res += \"0\"\n",
    "        else: \n",
    "            res += \"1\"\n",
    "    return res "
   ]
  },
  {
   "cell_type": "code",
   "execution_count": 125,
   "metadata": {},
   "outputs": [],
   "source": [
    "digital_sign = getDigitalSign(\"saketh\")"
   ]
  },
  {
   "cell_type": "code",
   "execution_count": 195,
   "metadata": {},
   "outputs": [],
   "source": []
  },
  {
   "cell_type": "code",
   "execution_count": 196,
   "metadata": {},
   "outputs": [],
   "source": []
  },
  {
   "cell_type": "code",
   "execution_count": 198,
   "metadata": {},
   "outputs": [
    {
     "data": {
      "text/plain": [
       "'1001010001010001100110001000000110011010110000110000011001001011011010110100101010100110001000001000101010110100100101101010000111001100000011010001001001001011000100000111010100010010010100101111100010000100101101000110011100101001001101000000011001011111011010101110010110000000101110100011111010110111000001111001110010010000001111100111111111001101001100110001000100110110000110111110010111111010001111110100111000000000011111001000101000001000111010001101111100101000100011101010001101000111101000000000010101101001100001010110010101011111011001011111011000001100101100011010110110111101111100101010001010011001011111110011010111011001000011010110001101010001011001110000110101111110011100110101010100000010000111111110000000010000000001010011010001011110110000110101010100100110011000101110110100100000001100001011101011001111110000001000100000010111101110001111011111000110011000010001110111011010011101111010001100100001010110111000101000110101010010110001010011111000110101110111011100001010100101011010000000000110'"
      ]
     },
     "execution_count": 198,
     "metadata": {},
     "output_type": "execute_result"
    }
   ],
   "source": [
    "hashSign"
   ]
  },
  {
   "cell_type": "code",
   "execution_count": null,
   "metadata": {},
   "outputs": [],
   "source": []
  }
 ],
 "metadata": {
  "kernelspec": {
   "display_name": "Python 3",
   "language": "python",
   "name": "python3"
  },
  "language_info": {
   "codemirror_mode": {
    "name": "ipython",
    "version": 3
   },
   "file_extension": ".py",
   "mimetype": "text/x-python",
   "name": "python",
   "nbconvert_exporter": "python",
   "pygments_lexer": "ipython3",
   "version": "3.6.8"
  }
 },
 "nbformat": 4,
 "nbformat_minor": 4
}
